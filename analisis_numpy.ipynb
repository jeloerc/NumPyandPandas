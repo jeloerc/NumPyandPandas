{
 "cells": [
  {
   "cell_type": "markdown",
   "id": "15be8d25",
   "metadata": {},
   "source": [
    "# Análisis con NumPy\n",
    "\n",
    "Este notebook contiene ejemplos básicos y útiles para manipular arrays con NumPy. Aprenderás a crear arrays, acceder a sus elementos, hacer operaciones matemáticas y usar funciones útiles.\n"
   ]
  },
  {
   "cell_type": "code",
   "execution_count": 2,
   "id": "2a210a70",
   "metadata": {},
   "outputs": [
    {
     "name": "stdout",
     "output_type": "stream",
     "text": [
      "NumPy import successful!\n",
      "NumPy version: 2.2.5\n"
     ]
    }
   ],
   "source": [
    "import numpy as np\n",
    "\n",
    "print(\"NumPy import successful!\")\n",
    "print(\"NumPy version:\", np.__version__)\n"
   ]
  },
  {
   "cell_type": "markdown",
   "id": "c4fda20f",
   "metadata": {},
   "source": [
    "## Crear arrays\n",
    "\n",
    "Usamos `np.array()` para convertir listas o listas de listas en arrays de NumPy."
   ]
  },
  {
   "cell_type": "code",
   "execution_count": null,
   "id": "ee3cd3f9",
   "metadata": {},
   "outputs": [
    {
     "name": "stdout",
     "output_type": "stream",
     "text": [
      "Array 1D: [1 2 3 4]\n",
      "Forma: (4,) | Dimensiones: 1\n",
      "\n",
      "Array 2D:\n",
      " [[1 2 3]\n",
      " [4 5 6]]\n",
      "Forma: (2, 3) | Dimensiones: 2\n"
     ]
    }
   ],
   "source": [
    "# Array 1D\n",
    "arr1d = np.array([1, 2, 3, 4])\n",
    "print(\"Array 1D:\", arr1d)\n",
    "print(\"Form:\", arr1d.shape, \"| Dimensions:\", arr1d.ndim)\n",
    "\n",
    "# Array 2D (matriz)\n",
    "arr2d = np.array([[1, 2, 3], [4, 5, 6]])\n",
    "print(\"\\nArray 2D:\\n\", arr2d)\n",
    "print(\"Form:\", arr2d.shape, \"| Dimensions:\", arr2d.ndim)\n"
   ]
  },
  {
   "cell_type": "markdown",
   "id": "c3bcd664",
   "metadata": {},
   "source": [
    "## Arrays especiales\n",
    "\n",
    "NumPy tiene funciones para crear arrays con ceros, unos, rangos, etc."
   ]
  },
  {
   "cell_type": "code",
   "execution_count": 5,
   "id": "f8d5e29b",
   "metadata": {},
   "outputs": [
    {
     "name": "stdout",
     "output_type": "stream",
     "text": [
      "Array of zeros (2x3):\n",
      " [[0. 0. 0.]\n",
      " [0. 0. 0.]]\n",
      "Array of ones: [1. 1. 1. 1.]\n",
      "Array with arange: [0 2 4 6 8]\n"
     ]
    }
   ],
   "source": [
    "zeros = np.zeros((2, 3))\n",
    "ones = np.ones(4)\n",
    "rango = np.arange(0, 10, 2)\n",
    "\n",
    "print(\"Array of zeros (2x3):\\n\", zeros)\n",
    "print(\"Array of ones:\", ones)\n",
    "print(\"Array with arange:\", rango)\n"
   ]
  },
  {
   "cell_type": "markdown",
   "id": "06793e9c",
   "metadata": {},
   "source": [
    "## Basic Operations\n",
    "\n",
    "We can add, subtract, multiply arrays, or apply mathematical functions easily.\n"
   ]
  },
  {
   "cell_type": "code",
   "execution_count": 6,
   "id": "031332fe",
   "metadata": {},
   "outputs": [
    {
     "name": "stdout",
     "output_type": "stream",
     "text": [
      "Sum: [5 7 9]\n",
      "Multiplication by scalar: [2 4 6]\n",
      "Square root: [1.         1.41421356 1.73205081]\n",
      "Sine: [0.84147098 0.90929743 0.14112001]\n"
     ]
    }
   ],
   "source": [
    "a = np.array([1, 2, 3])\n",
    "b = np.array([4, 5, 6])\n",
    "\n",
    "print(\"Sum:\", a + b)\n",
    "print(\"Multiplication by scalar:\", a * 2)\n",
    "print(\"Square root:\", np.sqrt(a))\n",
    "print(\"Sine:\", np.sin(a))\n"
   ]
  },
  {
   "cell_type": "markdown",
   "id": "ef21c656",
   "metadata": {},
   "source": [
    "## Indexing and Slicing\n",
    "\n",
    "We can access individual elements or subsets of arrays.\n"
   ]
  },
  {
   "cell_type": "code",
   "execution_count": 7,
   "id": "c086ddde",
   "metadata": {},
   "outputs": [
    {
     "name": "stdout",
     "output_type": "stream",
     "text": [
      "First element of a: 1\n",
      "Last two elements of b: [5 6]\n",
      "Element (0, 1) of arr2d: 2\n",
      "First row of arr2d: [1 2 3]\n",
      "Second column of arr2d: [2 5]\n"
     ]
    }
   ],
   "source": [
    "print(\"First element of a:\", a[0])\n",
    "print(\"Last two elements of b:\", b[-2:])\n",
    "\n",
    "print(\"Element (0, 1) of arr2d:\", arr2d[0, 1])\n",
    "print(\"First row of arr2d:\", arr2d[0])\n",
    "print(\"Second column of arr2d:\", arr2d[:, 1])\n"
   ]
  },
  {
   "cell_type": "markdown",
   "id": "bc30461b",
   "metadata": {},
   "source": [
    "## Quick Statistics\n",
    "\n",
    "NumPy allows calculating sums, means, standard deviations, and more.\n"
   ]
  },
  {
   "cell_type": "code",
   "execution_count": 8,
   "id": "77f98c7d",
   "metadata": {},
   "outputs": [
    {
     "name": "stdout",
     "output_type": "stream",
     "text": [
      "Total sum of arr2d: 21\n",
      "Mean by column: [2.5 3.5 4.5]\n",
      "Maximum by row: [3 6]\n"
     ]
    }
   ],
   "source": [
    "print(\"Total sum of arr2d:\", np.sum(arr2d))\n",
    "print(\"Mean by column:\", np.mean(arr2d, axis=0))\n",
    "print(\"Maximum by row:\", np.max(arr2d, axis=1))\n"
   ]
  }
 ],
 "metadata": {
  "kernelspec": {
   "display_name": ".venv",
   "language": "python",
   "name": "python3"
  },
  "language_info": {
   "codemirror_mode": {
    "name": "ipython",
    "version": 3
   },
   "file_extension": ".py",
   "mimetype": "text/x-python",
   "name": "python",
   "nbconvert_exporter": "python",
   "pygments_lexer": "ipython3",
   "version": "3.12.3"
  }
 },
 "nbformat": 4,
 "nbformat_minor": 5
}
